{
  "nbformat": 4,
  "nbformat_minor": 0,
  "metadata": {
    "colab": {
      "name": "initiation_neural_networks.ipynb",
      "provenance": [],
      "collapsed_sections": [],
      "authorship_tag": "ABX9TyM+MydWiX+r839qkbmAEI/r",
      "include_colab_link": true
    },
    "kernelspec": {
      "name": "python3",
      "display_name": "Python 3"
    },
    "language_info": {
      "name": "python"
    }
  },
  "cells": [
    {
      "cell_type": "markdown",
      "metadata": {
        "id": "view-in-github",
        "colab_type": "text"
      },
      "source": [
        "<a href=\"https://colab.research.google.com/github/marou7Ai/neural_networks/blob/main/initiation_neural_networks.ipynb\" target=\"_parent\"><img src=\"https://colab.research.google.com/assets/colab-badge.svg\" alt=\"Open In Colab\"/></a>"
      ]
    },
    {
      "cell_type": "code",
      "execution_count": null,
      "metadata": {
        "id": "7KoWAdmmhbwH"
      },
      "outputs": [],
      "source": [
        ""
      ]
    },
    {
      "cell_type": "code",
      "execution_count": null,
      "metadata": {
        "id": "jwL5_oQibp8l"
      },
      "outputs": [],
      "source": [
        "#abc\n",
        "import numpy as np \n",
        "import matplotlib.pyplot as plt \n",
        "from sklearn.datasets import make_blobs"
      ]
    },
    {
      "cell_type": "code",
      "source": [
        "X,y=make_blobs(n_samples=100, n_features=2,centers=2, random_state=0)\n",
        "y=y.reshape((y.shape[0],1))\n",
        "\n",
        "plt.scatter(X[:,0],X[:,1],c=y,cmap='summer')\n",
        "plt.show()"
      ],
      "metadata": {
        "colab": {
          "base_uri": "https://localhost:8080/",
          "height": 265
        },
        "id": "PyBzPsDfcwYM",
        "outputId": "ab40cb28-26c7-4bf9-d929-14a3d5b86274"
      },
      "execution_count": null,
      "outputs": [
        {
          "output_type": "display_data",
          "data": {
            "image/png": "[encoded data removed]",
            "text/plain": [
              "<Figure size 432x288 with 1 Axes>"
            ]
          },
          "metadata": {
            "needs_background": "light"
          }
        }
      ]
    },
    {
      "cell_type": "code",
      "source": [
        "def predict(X,w,b):\n",
        "  a=model(X,w,b)\n",
        "  print(a)\n",
        "  return a>=0.5\n",
        "a=predict(x,w,b)\n",
        "a.shape"
      ],
      "metadata": {
        "colab": {
          "base_uri": "https://localhost:8080/",
          "height": 217
        },
        "id": "-hATQaCjMc6J",
        "outputId": "c118750d-6433-4283-ba48-b1b8b411fd82"
      },
      "execution_count": null,
      "outputs": [
        {
          "output_type": "error",
          "ename": "NameError",
          "evalue": "ignored",
          "traceback": [
            "\u001b[0;31m---------------------------------------------------------------------------\u001b[0m",
            "\u001b[0;31mNameError\u001b[0m                                 Traceback (most recent call last)",
            "\u001b[0;32m<ipython-input-7-1af553389ed4>\u001b[0m in \u001b[0;36m<module>\u001b[0;34m()\u001b[0m\n\u001b[1;32m      3\u001b[0m   \u001b[0mprint\u001b[0m\u001b[0;34m(\u001b[0m\u001b[0ma\u001b[0m\u001b[0;34m)\u001b[0m\u001b[0;34m\u001b[0m\u001b[0;34m\u001b[0m\u001b[0m\n\u001b[1;32m      4\u001b[0m   \u001b[0;32mreturn\u001b[0m \u001b[0ma\u001b[0m\u001b[0;34m>=\u001b[0m\u001b[0;36m0.5\u001b[0m\u001b[0;34m\u001b[0m\u001b[0;34m\u001b[0m\u001b[0m\n\u001b[0;32m----> 5\u001b[0;31m \u001b[0ma\u001b[0m\u001b[0;34m=\u001b[0m\u001b[0mpredict\u001b[0m\u001b[0;34m(\u001b[0m\u001b[0mx\u001b[0m\u001b[0;34m,\u001b[0m\u001b[0mw\u001b[0m\u001b[0;34m,\u001b[0m\u001b[0mb\u001b[0m\u001b[0;34m)\u001b[0m\u001b[0;34m\u001b[0m\u001b[0;34m\u001b[0m\u001b[0m\n\u001b[0m\u001b[1;32m      6\u001b[0m \u001b[0ma\u001b[0m\u001b[0;34m.\u001b[0m\u001b[0mshape\u001b[0m\u001b[0;34m\u001b[0m\u001b[0;34m\u001b[0m\u001b[0m\n",
            "\u001b[0;31mNameError\u001b[0m: name 'x' is not defined"
          ]
        }
      ]
    },
    {
      "cell_type": "code",
      "source": [
        "def init (X):\n",
        "  w=np.random.randn(X.shape[1],1)\n",
        "  b=np.random.randn(1)\n",
        "  return w,b"
      ],
      "metadata": {
        "id": "X1KwAPuteuZI"
      },
      "execution_count": null,
      "outputs": []
    },
    {
      "cell_type": "code",
      "source": [
        "w,b=init(X)\n",
        "def model(X,w,b):\n",
        "  z=X.dot(w)+b\n",
        "  a=1/(1+np.exp(-z))\n",
        "  return a\n",
        "a=model(X,w,b)\n",
        "a.shape"
      ],
      "metadata": {
        "id": "XA8ps6v6eudo"
      },
      "execution_count": null,
      "outputs": []
    },
    {
      "cell_type": "code",
      "source": [
        "def log_l(a,y):\n",
        "  return 1/len(y) * np.sum(-y * np.log(a) + (1-y) * np.log(1-a)) \n",
        "\n",
        "l=log_l(a,y)"
      ],
      "metadata": {
        "id": "IxI4l77Geuib"
      },
      "execution_count": null,
      "outputs": []
    },
    {
      "cell_type": "code",
      "source": [
        "def gradients (a,X,y):\n",
        "  dw=1/len(y) * np.dot(X.T,a-y)\n",
        "  db=1/len(y) * np.sum(a-y)\n",
        "  return dw,db \n",
        "d=gradients(a,X,y)\n",
        "d"
      ],
      "metadata": {
        "id": "u9KuQ0KYeumR"
      },
      "execution_count": null,
      "outputs": []
    },
    {
      "cell_type": "code",
      "source": [
        "def update (dw,db,w,b,l_r):\n",
        "  w=w-l_r*dw\n",
        "  b=b-l_r*db\n",
        "  return w,b\n"
      ],
      "metadata": {
        "id": "GWhohi77eupT"
      },
      "execution_count": null,
      "outputs": []
    },
    {
      "cell_type": "code",
      "source": [
        "from sklearn.metrics import accuracy_score\n",
        "def neuron(X,l_r,it):\n",
        "  l_function=[]\n",
        "  w,b=init(X)\n",
        "  for i in range(it):\n",
        "    a=model(X,w,b)\n",
        "    l_function.append(log_l(a,y))\n",
        "    dw,db=gradients(a,X,y)\n",
        "    w,b=update(dw,db,w,b,l_r)\n",
        "  y_pred=predict(X,w,b)\n",
        "  print(accuracy_score(y,y_pred))\n",
        "  plt.plot(l_function)\n",
        "  plt.show()\n",
        "  return w,b\n",
        "\n",
        "\n"
      ],
      "metadata": {
        "id": "Z0WUCnAzeur-"
      },
      "execution_count": null,
      "outputs": []
    },
    {
      "cell_type": "code",
      "source": [
        "neuron(X,0.1,100)"
      ],
      "metadata": {
        "id": "GE6905wAHZmE"
      },
      "execution_count": null,
      "outputs": []
    },
    {
      "cell_type": "code",
      "source": [
        "\n",
        "plt.scatter(X[:,0],X[:,1],c=y,cmap='summer')\n",
        "plt.show()"
      ],
      "metadata": {
        "id": "1vyv6HBvMa4-"
      },
      "execution_count": null,
      "outputs": []
    },
    {
      "cell_type": "code",
      "source": [
        "x=np.array([2,1])\n",
        "plt.scatter(X[:,0],X[:,1],c=y,cmap='summer')\n",
        "plt.scatter(x[0],x[1],c='b')\n",
        "plt.show()"
      ],
      "metadata": {
        "id": "ccB06-m9XDi_"
      },
      "execution_count": null,
      "outputs": []
    },
    {
      "cell_type": "markdown",
      "source": [
        "# draw frontiere de decision :"
      ],
      "metadata": {
        "id": "4sqtMC4iYiPX"
      }
    },
    {
      "cell_type": "code",
      "source": [
        "u=np.linspace(-1,5,100)\n",
        "v=(-w[0]*u-b)/w[1]\n",
        "v"
      ],
      "metadata": {
        "id": "1WRtVjl0dpSE"
      },
      "execution_count": null,
      "outputs": []
    },
    {
      "cell_type": "code",
      "source": [
        "\n",
        "plt.scatter(X[:,0],X[:,1],c=y,cmap='summer')\n",
        "plt.scatter(x[0],x[1],c='b')\n",
        "plt.plot(u,v,c='orange',lw=2)\n",
        "plt.show()\n",
        "predict(X,w,b)"
      ],
      "metadata": {
        "id": "Gm8bXvCJeKr0"
      },
      "execution_count": null,
      "outputs": []
    }
  ]
}